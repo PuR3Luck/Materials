{
  "cells": [
    {
      "cell_type": "markdown",
      "metadata": {
        "id": "zL1G0FJMXvpl"
      },
      "source": [
        "# Exercise 9\n",
        "\n",
        "Related Notes:\n",
        "- Chapter_06_Data_Validation_And_Program_Testing\n",
        "\n",
        "[![Open In Colab](https://colab.research.google.com/assets/colab-badge.svg)](https://colab.research.google.com/github/njc-cz2-2021/Materials/blob/main/Exercises/Exercise-09-Program-Testing-and-Data-Validation.ipynb) "
      ]
    },
    {
      "cell_type": "markdown",
      "metadata": {
        "id": "lKR7pSv4Xvpo"
      },
      "source": [
        "## Exercise 9.1\n",
        "\n",
        "Consider the code in the code cell below.\n",
        "\n",
        "Clearly, there is a bug in this code. Identify the bug and then use a `try-except` statement to “fix” the code so that it works as intended. (Note that you may not utilise `else` or `finally` in the `try-except` statement.).\n",
        "\n",
        ">```python\n",
        ">numbers = [x for x in range(1000)]\n",
        ">i = 0\n",
        ">while True:\n",
        ">    print(str(numbers[i]))\n",
        ">    i += 1\n",
        ">```"
      ]
    },
    {
      "cell_type": "code",
      "execution_count": null,
      "metadata": {
        "id": "R8kCX6T6Xvpp"
      },
      "outputs": [],
      "source": [
        "# YOUR ANSWER HERE"
      ]
    },
    {
      "cell_type": "markdown",
      "metadata": {
        "id": "OV0Z5EbkXvpq"
      },
      "source": [
        "## Exercise 9.2\n",
        "\n",
        "Consider the code in the code cell below.\n",
        "\n",
        "Once again, there is a problem with this code. Use the `try-except` statement to ensure the code does not cause a runtime error. (Note: you may not change the way name is generated or used.)\n",
        "\n",
        ">```python\n",
        ">from random import randint\n",
        ">name = \"\"\n",
        ">for i in range(100):\n",
        ">    name = name + str(randint(0, 9))\n",
        ">    name = name + \".txt\"\n",
        ">    fileHandle = open(name)\n",
        ">    data = f.read()\n",
        ">    print(data)\n",
        ">    f.close()\n",
        ">```"
      ]
    },
    {
      "cell_type": "code",
      "execution_count": null,
      "metadata": {
        "id": "cJlMIWMDXvpq"
      },
      "outputs": [],
      "source": [
        "# YOUR ANSWER HERE"
      ]
    },
    {
      "cell_type": "markdown",
      "metadata": {
        "id": "hV4x2X4KXvpr"
      },
      "source": [
        "## Exercise 9.3\n",
        "\n",
        "Write code that continually asks for rational number input from the user (until the string `exit` is inputted). \n",
        "\n",
        "For each value entered, (if it is not the string `exit`) utilise exception handling to verify that the inputs are indeed rational numbers before saving them to the file called `RATIONALS.TXT`. (Note that your code should open, write, and close the file with each entry. Also comment why this may be a more prudent course of action.)\n",
        "\n"
      ]
    },
    {
      "cell_type": "code",
      "execution_count": null,
      "metadata": {
        "id": "OtOrutE-Xvpr"
      },
      "outputs": [],
      "source": [
        "# YOUR ANSWER HERE"
      ]
    },
    {
      "cell_type": "markdown",
      "metadata": {
        "id": "TSRBQ6d3Xvps"
      },
      "source": [
        "## Exercise 9.4\n",
        "\n",
        "The file `WORDS.TXT` under the folder `resources` contains a list of single word computing terms used in a textbook.\n",
        "\t\n",
        "Each entry has the following format:\n",
        ">```python\n",
        "><computing term>\n",
        "><number>\n",
        ">```\n",
        "\n",
        "One of the file entries (in both files) is:\n",
        ">```python\n",
        ">program\t\n",
        ">52\n",
        ">```\n",
        "\t\n",
        "This means that after a complete scan of the textbook the word `program` was found 52 times.\n",
        "\t\n",
        "By utilising the `try-except` statement, write program code to find and output the term with the highest number of occurrences.\n",
        "\n"
      ]
    },
    {
      "cell_type": "code",
      "execution_count": null,
      "metadata": {
        "id": "qey3WUdqXvps"
      },
      "outputs": [],
      "source": [
        "# YOUR ANSWER HERE"
      ]
    },
    {
      "cell_type": "markdown",
      "metadata": {
        "id": "ftM9q9lnXvpt"
      },
      "source": [
        "## Exercise 9.5 ISBN \n",
        "\n",
        "The International Standard Book Number (ISBN) is a numeric commercial book identifier which is intended to be unique. Publishers purchase ISBNs from an affiliate of the International ISBN Agency.\n",
        "\n",
        "Write a code that \n",
        "- takes in a string input,\n",
        "- return `True` if the string is either a valid ISBN-10 or ISBN-13 numbers.\n",
        "\n",
        "Each line in the text file, `ISBN_EXERCISE.TXT` under the folder `resources`, contain ISBN-10 or ISBN-13 which can be valid or invalid.\n",
        "\n",
        "Write a program to:\n",
        "- print out the valid ISBNs in the file.\n",
        "- print out the number of valid ISBNs in the file."
      ]
    },
    {
      "cell_type": "code",
      "execution_count": null,
      "metadata": {
        "id": "Q3dbJp-6Xvpt"
      },
      "outputs": [],
      "source": [
        "# YOUR ANSWER HERE"
      ]
    },
    {
      "cell_type": "markdown",
      "metadata": {
        "id": "opGxc4_NXvpt"
      },
      "source": [
        "## Exercise 9.6 2021/NJC/PROMO/P2/Q3(Modified)\n",
        "A picture element, or a **pixel**, is one of the small squares that make up an image on a computer screen. As such, every digital image can be thought of being made up of pixels. The following is an example of an image of the size 10 by 10 pixels. The first 10 refers to the number of rows in the image and the latter 10 refers to the number of columns in the image.\n",
        "\n",
        "<center>\n",
        "<img src=\"https://github.com/njc-cz2-2021/Materials/blob/main/Exercises/img/exercise9-pixel.png?raw=1\"><br>\n",
        "</center>\n",
        "\n",
        "A pixel holds the information of a color and the colors are often represented in a string starting with a hex `#` character followed by 3 pairs of hexadecimal digits. We will call this the hexadecimal representation of the pixel. For example, the color white is `#FFFFF` and the color silver is `#C0C0C0`.\n",
        "\n",
        "### Task 1\n",
        "Write a program code with the following specification:\n",
        "- input a hexadecimal number as a string\n",
        "- validate the input\n",
        "- calculate the denary value of the hexadecimal number input\n",
        "- output the denary value."
      ]
    },
    {
      "cell_type": "code",
      "execution_count": 5,
      "metadata": {
        "id": "Jfbs_KbLXvpu"
      },
      "outputs": [],
      "source": [
        "from typing import Optional\n",
        "\n",
        "\n",
        "def hex2int(hexchar:str) -> int:\n",
        "    if hexchar in \"0123456789\":\n",
        "        return int(hexchar)\n",
        "    elif hexchar in \"ABCDEF\":\n",
        "        return ord(hexchar) - ord(\"A\") + 10\n",
        "\n",
        "def hexvalid(hexstring:str): \n",
        "    sum = 0\n",
        "    for i in hexstring:\n",
        "        if i not in \"0123456789ABCDEF\":\n",
        "            return False, None\n",
        "    for index,char in enumerate(reversed(hexstring),start=0):\n",
        "        sum += hex2int(char) * 16**index\n",
        "    return True, sum"
      ]
    },
    {
      "cell_type": "markdown",
      "metadata": {
        "id": "aCO3y5iLXvpu"
      },
      "source": [
        "Each pair of the hexadecimal digits actually represents the intensity of 3 primary colors, red, green and blue, that make up the color in the pixel. As such, instead of having the hexadecimal representation of the pixel, each pixel can be represented by a list of 3 denary values that represents the intensity of the colours, red, green and blue respectively, e.g., the color `#FFCO80` can be represented as the list `[255,192,128]`. We will call this representation of the pixel the `RGB representation`.\n",
        "\n",
        "### Task 2\n",
        "A 16 by 13 pixels image is stored as hexadecimal form in the text file `TASK3_2.CSV`, where each line represents a row in the image.\n",
        "Write a program code with the following specification: \n",
        "- read the hexadecimal values from the file TASK3_2.CSV and store them in a suitable format\n",
        "- using the program code in Task 3.1,\n",
        "- convert the image from its hexadecimal pixels representation ito the RGB presentation,\n",
        "- write the new presentation into the file `MY_RGB_IMAGE.TXT`. \n",
        "Conversely, sometimes pixels are given in their RGB representation instead and for graphic designers, hexadecimal values are often preferred."
      ]
    },
    {
      "cell_type": "code",
      "execution_count": 10,
      "metadata": {
        "id": "IgCkNeRNXvpv"
      },
      "outputs": [],
      "source": [
        "from typing import List\n",
        "import csv\n",
        "\n",
        "def hex2rgb(rgbstr:str) -> List[int]:\n",
        "    rgb = []\n",
        "    for i in range(1,7,2):\n",
        "        rgb.append(hexvalid(rgbstr[i:i+2])[1])\n",
        "    return rgb\n",
        "\n",
        "def filecsv2rgb(filename:str) -> List[List[int]]:\n",
        "    rgbVal = []\n",
        "    with open(filename,\"r\") as f:\n",
        "        reader = csv.reader(f)\n",
        "        for row in reader:\n",
        "            rgbVal.append(row)\n",
        "    return rgbVal\n",
        "\n",
        "#print(filecsv2rgb(\"TASK3_2.csv\"))\n",
        "\n",
        "test = filecsv2rgb(\"TASK3_2.csv\")\n",
        "\n",
        "def converter(rgbVal:List[List[str]]) -> List[List[List[int]]]:\n",
        "    res = []\n",
        "    for row in rgbVal:\n",
        "        res.append(list(map(hex2rgb,row)))\n",
        "    return res\n",
        "\n",
        "#print(converter(test))\n",
        "\n",
        "\n",
        "def writer(vec:List[List[List[int]]],filename:str) -> None:\n",
        "    with open(filename,\"w\") as f:\n",
        "        for row in vec:\n",
        "            f.write(str(row)[1:-1]+\"\\n\")\n",
        "\n",
        "def wrapper(input_file:str, output_file:str) -> None:\n",
        "    rgbVal = filecsv2rgb(input_file)\n",
        "    res = converter(rgbVal)\n",
        "    writer(res,output_file)\n",
        "wrapper(\"TASK3_2.csv\", \"MY_RGB_IMAGE.TXT\")"
      ]
    },
    {
      "cell_type": "markdown",
      "metadata": {
        "id": "wk0Q9ljBXvpv"
      },
      "source": [
        "### Task 3\n",
        "A 16 by 13 pixels image is stored its RGB representation in the text file `TASK3_3.CSV` in the `resources` folder, where each line represents a row in the image.\n",
        "Write an additional program code with the following specification: \n",
        "- read the rgb values from the file `TASK3_3.CSV` and store them in a suitable format,\n",
        "- write the new presentation into the file `MY_HEX_IMAGE.TXT`."
      ]
    },
    {
      "cell_type": "code",
      "execution_count": 29,
      "metadata": {
        "id": "zmmnZN0LXvpv"
      },
      "outputs": [
        {
          "name": "stdout",
          "output_type": "stream",
          "text": [
            "#010203\n"
          ]
        }
      ],
      "source": [
        "import csv\n",
        "\n",
        "def stringpreprocessor(string:str) -> List[int]:\n",
        "    numlst = string[1:-1].split(\",\")\n",
        "    return list(map(int,numlst))\n",
        "\n",
        "def rgb2hex(rgb:List[int]) -> str:\n",
        "    string = \"#\"\n",
        "    for i in rgb:\n",
        "        char = hex(i)[2:].upper()\n",
        "        if len(char) == 1:\n",
        "            char = \"0\" + char\n",
        "        string += char\n",
        "    return string\n",
        "\n",
        "def use_this(string:str) -> str:\n",
        "    return rgb2hex(stringpreprocessor(string))\n",
        "\n",
        "#print(use_this(\"[1,2,3]\"))\n",
        "\n",
        "def csv2list(filename:str) -> List[List[str]]:\n",
        "    with open(filename, newline='') as csvfile:\n",
        "        vec = []\n",
        "        reader = csv.reader(csvfile)\n",
        "        for row in reader:\n",
        "            vec.append(list(map(use_this,row)))\n",
        "    return vec\n",
        "\n",
        "def writer(vec:List[List[str]],filename:str) -> None:\n",
        "    with open(filename, 'w', newline='\\n') as csvfile:\n",
        "        writer = csv.writer(csvfile)\n",
        "        for row in vec:\n",
        "            writer.writerow(row)\n",
        "\n",
        "def wrapper(input_file:str, output_file:str) -> None:\n",
        "    writer(csv2list(input_file),output_file)\n",
        "\n",
        "wrapper(\"TASK3_3.csv\",\"output.txt\")"
      ]
    }
  ],
  "metadata": {
    "colab": {
      "provenance": []
    },
    "kernelspec": {
      "display_name": "Python 3",
      "language": "python",
      "name": "python3"
    },
    "language_info": {
      "codemirror_mode": {
        "name": "ipython",
        "version": 3
      },
      "file_extension": ".py",
      "mimetype": "text/x-python",
      "name": "python",
      "nbconvert_exporter": "python",
      "pygments_lexer": "ipython3",
      "version": "3.9.13"
    },
    "vscode": {
      "interpreter": {
        "hash": "a42ccb73e7d9bfdf27e036f1d2b8b681e55fc0743cc5586bc2474d4a60f4b886"
      }
    }
  },
  "nbformat": 4,
  "nbformat_minor": 0
}
